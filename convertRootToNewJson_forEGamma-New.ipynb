{
 "cells": [
  {
   "cell_type": "code",
   "execution_count": 1,
   "metadata": {},
   "outputs": [],
   "source": [
    "#Author: Anshul Kapoor\n",
    "#Code Purpose: Make Single JSON for all EGamma SFs\n",
    "\n",
    "#Names that you want for SFs for files above (same order please)\n",
    "names=[\"Veto\",\"Loose\",\"Medium\",\"Tight\"]\n",
    "\n",
    "#All the files for SFs\n",
    "files={\n",
    "    \"Veto\":\"EGdata/egammaEffi.txt_Ele_Veto_postVFP_EGM2D.root\",\n",
    "    \"Loose\":\"EGdata/egammaEffi.txt_Ele_Loose_postVFP_EGM2D.root\",\n",
    "    \"Medium\":\"EGdata/egammaEffi.txt_Ele_Medium_postVFP_EGM2D.root\",\n",
    "    \"Tight\":\"EGdata/egammaEffi.txt_Ele_Tight_postVFP_EGM2D.root\",\n",
    "}\n",
    "\n",
    "\n",
    "#Names that you want for errors for files above (same order please)\n",
    "nameJSON=\"egcorrs_withErrors_New.json\" # Name of final JSON\n",
    "\n",
    "sfhist=\"EGamma_SF2D\""
   ]
  },
  {
   "cell_type": "code",
   "execution_count": 2,
   "metadata": {},
   "outputs": [
    {
     "name": "stdout",
     "output_type": "stream",
     "text": [
      "Welcome to JupyROOT 6.22/06\n"
     ]
    }
   ],
   "source": [
    "from ROOT import TFile, TH1F, TCanvas, TString\n",
    "import correctionlib.schemav1 as schema\n",
    "from correctionlib.schemav1 import Correction\n",
    "corrs=[]\n",
    "\n",
    "#Function to extract SFs from EGamma standard root files\n",
    "def getSFs(fn=\"filename\",IsSF=1):\n",
    "    tf = TFile(fn)\n",
    "    fo = tf.Get(sfhist)\n",
    "    Xbins=fo.GetNbinsX()\n",
    "    Ybins=fo.GetNbinsY()\n",
    "    X=[None]*(Xbins+1)\n",
    "    Y=[None]*(Ybins+1)\n",
    "    values=[]\n",
    "    errors=[]\n",
    "    for i in range(1,Xbins + 1):\n",
    "        X[i-1]=(fo.GetXaxis().GetBinLowEdge(i))\n",
    "    X[Xbins]=fo.GetXaxis().GetBinUpEdge(Xbins)\n",
    "    for j in range(1,Ybins + 1):\n",
    "        Y[j-1]=(fo.GetYaxis().GetBinLowEdge(j))\n",
    "    Y[Ybins]=fo.GetYaxis().GetBinUpEdge(Ybins)\n",
    "    for i in range(1,Xbins + 1):\n",
    "        for j in range(1,Ybins + 1):\n",
    "            values.append(fo.GetBinContent(i,j))\n",
    "            errors.append(fo.GetBinError(i,j))\n",
    "    if IsSF==1:\n",
    "        valSFs=schema.MultiBinning.parse_obj({\n",
    "            \"nodetype\": \"multibinning\",\n",
    "            \"edges\": [\n",
    "                X,\n",
    "                Y,\n",
    "            ],\n",
    "            \"content\": values,\n",
    "        })\n",
    "        return valSFs\n",
    "    if IsSF==0:\n",
    "        valerrors=schema.MultiBinning.parse_obj({\n",
    "            \"nodetype\": \"multibinning\",\n",
    "            \"edges\": [\n",
    "                X,\n",
    "                Y,\n",
    "            ],\n",
    "            \"content\": errors,\n",
    "        })\n",
    "        return valerrors\n",
    "\n"
   ]
  },
  {
   "cell_type": "code",
   "execution_count": 3,
   "metadata": {},
   "outputs": [],
   "source": [
    "corr = Correction.parse_obj(\n",
    "    {\n",
    "        \"version\": 1,\n",
    "        \"name\": \"ElectronSF\",\n",
    "        \"inputs\": [\n",
    "            {\"name\": \"SF or syst\",\"type\": \"string\"},\n",
    "            {\"name\": \"wp\",\"type\": \"string\"},\n",
    "            {\"type\": \"real\", \"name\": \"eta\", \"description\": \"possibly supercluster eta?\"},\n",
    "            {\"name\": \"pt\", \"type\": \"real\"},\n",
    "        ],\n",
    "        \"output\": {\"name\": \"weight\", \"type\": \"real\"},\n",
    "        \"data\": schema.Category.parse_obj({\n",
    "            \"nodetype\": \"category\",\n",
    "            \"keys\": [\"sf\",\"syst\"],\n",
    "            \"content\": [\n",
    "                schema.Category.parse_obj({\n",
    "                    \"nodetype\": \"category\",\n",
    "                    \"keys\": names,\n",
    "                    \"content\":[\n",
    "                        getSFs(fn=files[name],IsSF=1)\n",
    "                        for name in names\n",
    "                    ]\n",
    "                }),\n",
    "                schema.Category.parse_obj({\n",
    "                    \"nodetype\": \"category\",\n",
    "                    \"keys\": names,\n",
    "                    \"content\":[\n",
    "                        getSFs(fn=files[name],IsSF=0)\n",
    "                        for name in names\n",
    "                    ]\n",
    "                }),\n",
    "            ]\n",
    "        })\n",
    "    })\n",
    "        \n",
    "corrs.append(corr)\n",
    "\n",
    "#Save JSON\n",
    "from correctionlib.schemav1 import CorrectionSet\n",
    "import gzip\n",
    "\n",
    "cset = CorrectionSet.parse_obj({\n",
    "    \"schema_version\": 1,\n",
    "    \"corrections\": corrs,\n",
    "})\n",
    "\n",
    "with open(nameJSON, \"w\") as fout:\n",
    "    fout.write(cset.json(exclude_unset=True, indent=4))"
   ]
  },
  {
   "cell_type": "code",
   "execution_count": 4,
   "metadata": {},
   "outputs": [
    {
     "name": "stdout",
     "output_type": "stream",
     "text": [
      "sf is:0.9858956336975098\n",
      "syst is:0.014436147986067594\n"
     ]
    }
   ],
   "source": [
    "#Evaluator Example\n",
    "\n",
    "import libcorrection\n",
    "\n",
    "cset = libcorrection.CorrectionSet(nameJSON)\n",
    "\n",
    "valsf= cset[\"ElectronSF\"].evaluate(\"sf\",\"Medium\",1.1, 34.0)\n",
    "print(\"sf is:\"+str(valsf))\n",
    "\n",
    "valsyst= cset[\"ElectronSF\"].evaluate(\"syst\",\"Medium\",1.1, 34.0)\n",
    "print(\"syst is:\"+str(valsyst))\n"
   ]
  }
 ],
 "metadata": {
  "kernelspec": {
   "display_name": "Python 3",
   "language": "python",
   "name": "python3"
  },
  "language_info": {
   "codemirror_mode": {
    "name": "ipython",
    "version": 3
   },
   "file_extension": ".py",
   "mimetype": "text/x-python",
   "name": "python",
   "nbconvert_exporter": "python",
   "pygments_lexer": "ipython3",
   "version": "3.8.5"
  }
 },
 "nbformat": 4,
 "nbformat_minor": 4
}
