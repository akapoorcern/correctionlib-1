{
 "cells": [
  {
   "cell_type": "code",
   "execution_count": 1,
   "metadata": {},
   "outputs": [],
   "source": [
    "#Author: Anshul Kapoor\n",
    "#Code Purpose: Make Single JSON for all EGamma SFs\n",
    "\n",
    "#All the files for SFs\n",
    "files=[\n",
    "    \"EGdata/egammaEffi.txt_Ele_Veto_postVFP_EGM2D.root\",\n",
    "    \"EGdata/egammaEffi.txt_Ele_Loose_postVFP_EGM2D.root\",\n",
    "    \"EGdata/egammaEffi.txt_Ele_Medium_postVFP_EGM2D.root\",\n",
    "    \"EGdata/egammaEffi.txt_Ele_Tight_postVFP_EGM2D.root\",\n",
    "]\n",
    "\n",
    "#Names that you want for SFs for files above (same order please)\n",
    "names=[\"Veto\",\"Loose\",\"Medium\",\"Tight\"]\n",
    "#Names that you want for errors for files above (same order please)\n",
    "nameserrs=[\"Veto_err\",\"Loose_err\",\"Medium_err\",\"Tight_err\"]\n",
    "nameJSON=\"egcorrs_withErrors.json\" # Name of final JSON\n",
    "\n",
    "sfhist=\"EGamma_SF2D\""
   ]
  },
  {
   "cell_type": "code",
   "execution_count": 2,
   "metadata": {},
   "outputs": [
    {
     "name": "stdout",
     "output_type": "stream",
     "text": [
      "Welcome to JupyROOT 6.22/06\n"
     ]
    }
   ],
   "source": [
    "from ROOT import TFile, TH1F, TCanvas, TString\n",
    "\n",
    "#Function to extract SFs from EGamma standard root files\n",
    "def getSFs(fn=\"filename\"):\n",
    "    tf = TFile(fn)\n",
    "    fo = tf.Get(sfhist)\n",
    "    Xbins=fo.GetNbinsX()\n",
    "    Ybins=fo.GetNbinsY()\n",
    "    X=[None]*(Xbins+1)\n",
    "    Y=[None]*(Ybins+1)\n",
    "    values=[]\n",
    "    errors=[]\n",
    "    for i in range(1,Xbins + 1):\n",
    "        X[i-1]=(fo.GetXaxis().GetBinLowEdge(i))\n",
    "    X[Xbins]=fo.GetXaxis().GetBinUpEdge(Xbins)\n",
    "    for j in range(1,Ybins + 1):\n",
    "        Y[j-1]=(fo.GetYaxis().GetBinLowEdge(j))\n",
    "    Y[Ybins]=fo.GetYaxis().GetBinUpEdge(Ybins)\n",
    "    for i in range(1,Xbins + 1):\n",
    "        for j in range(1,Ybins + 1):\n",
    "            values.append(fo.GetBinContent(i,j))\n",
    "            errors.append(fo.GetBinError(i,j))\n",
    "    return X,Y,values,errors\n",
    "\n",
    "\n",
    "#Use correctionlib to prepare jsons for all wps\n",
    "from correctionlib.schemav1 import Correction\n",
    "corrs=[]\n",
    "for name,name_err,file in zip(names,nameserrs,files):\n",
    "    X,Y,values,errors=getSFs(file) #Using getSFs function defined above\n",
    "    \n",
    "    corr = Correction.parse_obj(\n",
    "    {\n",
    "        \"version\": 1,\n",
    "        \"name\": name,\n",
    "        \"inputs\": [\n",
    "            {\"name\": \"pt\", \"type\": \"real\"},\n",
    "            {\"type\": \"real\", \"name\": \"eta\", \"description\": \"possibly supercluster eta?\"},\n",
    "          \n",
    "        ],\n",
    "        \"output\": {\"name\": \"weight\", \"type\": \"real\"},\n",
    "        \"data\": {\n",
    "            \"nodetype\": \"multibinning\",\n",
    "            \"edges\": [\n",
    "                Y,\n",
    "                X,\n",
    "            ],\n",
    "            \"content\": values,\n",
    "        },\n",
    "    })\n",
    "    corrs.append(corr)\n",
    "    \n",
    "    correrr = Correction.parse_obj(\n",
    "    {\n",
    "        \"version\": 1,\n",
    "        \"name\": name_err,\n",
    "        \"inputs\": [\n",
    "            {\"type\": \"real\", \"name\": \"eta\", \"description\": \"possibly supercluster eta?\"},\n",
    "            {\"name\": \"pt\", \"type\": \"real\"},\n",
    "        ],\n",
    "        \"output\": {\"name\": \"weight\", \"type\": \"real\"},\n",
    "        \"data\": {\n",
    "            \"nodetype\": \"multibinning\",\n",
    "            \"edges\": [\n",
    "                Y,\n",
    "                X,\n",
    "            ],\n",
    "            \"content\": errors,\n",
    "        },\n",
    "    })\n",
    "    corrs.append(correrr)\n",
    "\n",
    "#Save JSON\n",
    "from correctionlib.schemav1 import CorrectionSet\n",
    "import gzip\n",
    "\n",
    "cset = CorrectionSet.parse_obj({\n",
    "    \"schema_version\": 1,\n",
    "    \"corrections\": corrs,\n",
    "})\n",
    "\n",
    "with open(nameJSON, \"w\") as fout:\n",
    "    fout.write(cset.json(exclude_unset=True, indent=4))"
   ]
  },
  {
   "cell_type": "code",
   "execution_count": 3,
   "metadata": {},
   "outputs": [
    {
     "data": {
      "text/plain": [
       "<libcorrection.Correction at 0x7fc072fc76b0>"
      ]
     },
     "execution_count": 3,
     "metadata": {},
     "output_type": "execute_result"
    }
   ],
   "source": [
    "#Evaluator Example\n",
    "\n",
    "import libcorrection\n",
    "\n",
    "cset = libcorrection.CorrectionSet(nameJSON)\n",
    "\n",
    "cset[\"Veto\"]"
   ]
  },
  {
   "cell_type": "code",
   "execution_count": 4,
   "metadata": {},
   "outputs": [
    {
     "name": "stdout",
     "output_type": "stream",
     "text": [
      "SF is:0.9831932783126832\n",
      "error is:0.014436147986067594\n"
     ]
    }
   ],
   "source": [
    "valsf= cset[\"Medium\"].evaluate(34.0, 1.1)\n",
    "valsferr= cset[\"Medium_err\"].evaluate(34.0, 1.1)\n",
    "\n",
    "print(\"SF is:\"+str(valsf))\n",
    "print(\"error is:\"+str(valsferr))"
   ]
  },
  {
   "cell_type": "code",
   "execution_count": 5,
   "metadata": {},
   "outputs": [],
   "source": [
    "#Testing a few things \n",
    "X,Y,values,errors=getSFs(\"EGdata/egammaEffi.txt_Ele_Veto_postVFP_EGM2D.root\")"
   ]
  },
  {
   "cell_type": "code",
   "execution_count": 6,
   "metadata": {},
   "outputs": [
    {
     "data": {
      "text/plain": [
       "[-2.5, -2.0, -1.566, -1.444, -0.8, 0.0, 0.8, 1.444, 1.566, 2.0, 2.5]"
      ]
     },
     "execution_count": 6,
     "metadata": {},
     "output_type": "execute_result"
    }
   ],
   "source": [
    "X"
   ]
  },
  {
   "cell_type": "code",
   "execution_count": 7,
   "metadata": {},
   "outputs": [
    {
     "data": {
      "text/plain": [
       "[10.0, 20.0, 35.0, 50.0, 100.0, 500.0]"
      ]
     },
     "execution_count": 7,
     "metadata": {},
     "output_type": "execute_result"
    }
   ],
   "source": [
    "Y"
   ]
  },
  {
   "cell_type": "code",
   "execution_count": 9,
   "metadata": {},
   "outputs": [
    {
     "data": {
      "text/plain": [
       "50"
      ]
     },
     "execution_count": 9,
     "metadata": {},
     "output_type": "execute_result"
    }
   ],
   "source": [
    "\n",
    "len(values)"
   ]
  },
  {
   "cell_type": "code",
   "execution_count": 10,
   "metadata": {},
   "outputs": [
    {
     "data": {
      "text/plain": [
       "[0.010571704486386103,\n",
       " 0.015161713327338984,\n",
       " 0.003326720994586664,\n",
       " 0.003337786209726554,\n",
       " 0.017076009800036644,\n",
       " 0.015908888635886853,\n",
       " 0.010904415622441719,\n",
       " 0.0021097046413502706,\n",
       " 0.0032410168259563703,\n",
       " 0.007629628269684305,\n",
       " 1.0,\n",
       " 1.0,\n",
       " 1.0,\n",
       " 1.0,\n",
       " 1.0,\n",
       " 0.022211934730639107,\n",
       " 0.013436816646698298,\n",
       " 0.00222127784665934,\n",
       " 0.005951910110379365,\n",
       " 0.007558807705375244,\n",
       " 0.0185955853111187,\n",
       " 0.013050683805852583,\n",
       " 0.0017985989694381537,\n",
       " 0.002783030908079795,\n",
       " 0.0052315854352529105,\n",
       " 0.0185955853111187,\n",
       " 0.013050683805852583,\n",
       " 0.0017985989694381537,\n",
       " 0.002783030908079795,\n",
       " 0.0052315854352529105,\n",
       " 0.022060619448594467,\n",
       " 0.013436816646698298,\n",
       " 0.00222127784665934,\n",
       " 0.005951910110379365,\n",
       " 0.007558807705375244,\n",
       " 1.0,\n",
       " 1.0,\n",
       " 1.0,\n",
       " 1.0,\n",
       " 1.0,\n",
       " 0.015908888635886853,\n",
       " 0.010904415622441719,\n",
       " 0.0021097046413502706,\n",
       " 0.0032410168259563703,\n",
       " 0.007460719371943233,\n",
       " 0.011089503460718486,\n",
       " 0.015161713327338984,\n",
       " 0.003326720994586664,\n",
       " 0.003337786209726554,\n",
       " 0.017138097060249706]"
      ]
     },
     "execution_count": 10,
     "metadata": {},
     "output_type": "execute_result"
    }
   ],
   "source": [
    "errors"
   ]
  },
  {
   "cell_type": "code",
   "execution_count": 47,
   "metadata": {},
   "outputs": [],
   "source": [
    "import uproot4\n",
    "sf = uproot4.open(\"EGdata/egammaEffi.txt_Ele_Veto_postVFP_EGM2D.root:EGamma_SF2D\").to_boost()"
   ]
  },
  {
   "cell_type": "code",
   "execution_count": 48,
   "metadata": {},
   "outputs": [
    {
     "data": {
      "text/plain": [
       "[1.0217949151992798,\n",
       " 0.993127167224884,\n",
       " 0.9924487471580505,\n",
       " 0.9871657490730286,\n",
       " 1.0181623697280884,\n",
       " 1.015222430229187,\n",
       " 0.9923245906829834,\n",
       " 0.996835470199585,\n",
       " 1.0010526180267334,\n",
       " 1.0180851221084595,\n",
       " 1.0,\n",
       " 1.0,\n",
       " 1.0,\n",
       " 1.0,\n",
       " 1.0,\n",
       " 1.0050188302993774,\n",
       " 0.9875706434249878,\n",
       " 0.9895397424697876,\n",
       " 0.9885655045509338,\n",
       " 1.0073375701904297,\n",
       " 0.9701120853424072,\n",
       " 0.9832962155342102,\n",
       " 0.9885773658752441,\n",
       " 0.9886363744735718,\n",
       " 1.0104166269302368,\n",
       " 0.9763681888580322,\n",
       " 0.9866518378257751,\n",
       " 0.9906542301177979,\n",
       " 0.9917269945144653,\n",
       " 1.0031217336654663,\n",
       " 1.0138190984725952,\n",
       " 0.9864253401756287,\n",
       " 0.9916142821311951,\n",
       " 0.9895941615104675,\n",
       " 1.0073375701904297,\n",
       " 1.0,\n",
       " 1.0,\n",
       " 1.0,\n",
       " 1.0,\n",
       " 1.0,\n",
       " 1.0285035371780396,\n",
       " 0.9812362194061279,\n",
       " 0.9936708807945251,\n",
       " 0.993697464466095,\n",
       " 0.9896373152732849,\n",
       " 1.0149999856948853,\n",
       " 0.9908779859542847,\n",
       " 0.9892008900642395,\n",
       " 0.9829059839248657,\n",
       " 1.0063626766204834]"
      ]
     },
     "execution_count": 48,
     "metadata": {},
     "output_type": "execute_result"
    }
   ],
   "source": [
    "import numpy\n",
    "list(sf.view().value.flatten())"
   ]
  },
  {
   "cell_type": "code",
   "execution_count": 49,
   "metadata": {},
   "outputs": [],
   "source": [
    "tf = TFile(\"EGdata/egammaEffi.txt_Ele_Veto_postVFP_EGM2D.root\")\n",
    "fo = tf.Get(\"EGamma_SF2D\")\n",
    "Xbins=fo.GetNbinsX()\n",
    "Ybins=fo.GetNbinsY()\n",
    "X=[None]*(Xbins+1)\n",
    "Y=[None]*(Ybins+1)\n",
    "values=[]\n",
    "errors=[]\n",
    "for i in range(1,Xbins + 1):\n",
    "    X[i-1]=(fo.GetXaxis().GetBinLowEdge(i))\n",
    "X[Xbins]=fo.GetXaxis().GetBinUpEdge(Xbins)\n",
    "for j in range(1,Ybins + 1):\n",
    "    Y[j-1]=(fo.GetYaxis().GetBinLowEdge(j))\n",
    "Y[Ybins]=fo.GetYaxis().GetBinUpEdge(Ybins)"
   ]
  },
  {
   "cell_type": "code",
   "execution_count": 50,
   "metadata": {},
   "outputs": [
    {
     "name": "stdout",
     "output_type": "stream",
     "text": [
      "1, 1\n",
      "1, 2\n",
      "1, 3\n",
      "1, 4\n",
      "1, 5\n",
      "2, 1\n",
      "2, 2\n",
      "2, 3\n",
      "2, 4\n",
      "2, 5\n",
      "3, 1\n",
      "3, 2\n",
      "3, 3\n",
      "3, 4\n",
      "3, 5\n",
      "4, 1\n",
      "4, 2\n",
      "4, 3\n",
      "4, 4\n",
      "4, 5\n",
      "5, 1\n",
      "5, 2\n",
      "5, 3\n",
      "5, 4\n",
      "5, 5\n",
      "6, 1\n",
      "6, 2\n",
      "6, 3\n",
      "6, 4\n",
      "6, 5\n",
      "7, 1\n",
      "7, 2\n",
      "7, 3\n",
      "7, 4\n",
      "7, 5\n",
      "8, 1\n",
      "8, 2\n",
      "8, 3\n",
      "8, 4\n",
      "8, 5\n",
      "9, 1\n",
      "9, 2\n",
      "9, 3\n",
      "9, 4\n",
      "9, 5\n",
      "10, 1\n",
      "10, 2\n",
      "10, 3\n",
      "10, 4\n",
      "10, 5\n"
     ]
    }
   ],
   "source": [
    "for i in range(1,Xbins + 1):\n",
    "    for j in range(1,Ybins + 1):\n",
    "        print(str(i)+', '+str(j))\n",
    "        values.append(fo.GetBinContent(i,j))\n",
    "        errors.append(fo.GetBinError(i,j))"
   ]
  },
  {
   "cell_type": "code",
   "execution_count": 51,
   "metadata": {},
   "outputs": [
    {
     "data": {
      "text/plain": [
       "[1.0217949151992798,\n",
       " 0.993127167224884,\n",
       " 0.9924487471580505,\n",
       " 0.9871657490730286,\n",
       " 1.0181623697280884,\n",
       " 1.015222430229187,\n",
       " 0.9923245906829834,\n",
       " 0.996835470199585,\n",
       " 1.0010526180267334,\n",
       " 1.0180851221084595,\n",
       " 1.0,\n",
       " 1.0,\n",
       " 1.0,\n",
       " 1.0,\n",
       " 1.0,\n",
       " 1.0050188302993774,\n",
       " 0.9875706434249878,\n",
       " 0.9895397424697876,\n",
       " 0.9885655045509338,\n",
       " 1.0073375701904297,\n",
       " 0.9701120853424072,\n",
       " 0.9832962155342102,\n",
       " 0.9885773658752441,\n",
       " 0.9886363744735718,\n",
       " 1.0104166269302368,\n",
       " 0.9763681888580322,\n",
       " 0.9866518378257751,\n",
       " 0.9906542301177979,\n",
       " 0.9917269945144653,\n",
       " 1.0031217336654663,\n",
       " 1.0138190984725952,\n",
       " 0.9864253401756287,\n",
       " 0.9916142821311951,\n",
       " 0.9895941615104675,\n",
       " 1.0073375701904297,\n",
       " 1.0,\n",
       " 1.0,\n",
       " 1.0,\n",
       " 1.0,\n",
       " 1.0,\n",
       " 1.0285035371780396,\n",
       " 0.9812362194061279,\n",
       " 0.9936708807945251,\n",
       " 0.993697464466095,\n",
       " 0.9896373152732849,\n",
       " 1.0149999856948853,\n",
       " 0.9908779859542847,\n",
       " 0.9892008900642395,\n",
       " 0.9829059839248657,\n",
       " 1.0063626766204834]"
      ]
     },
     "execution_count": 51,
     "metadata": {},
     "output_type": "execute_result"
    }
   ],
   "source": [
    "values"
   ]
  },
  {
   "cell_type": "code",
   "execution_count": 54,
   "metadata": {},
   "outputs": [
    {
     "data": {
      "text/plain": [
       "array([0., 0., 0., 0., 0., 0., 0., 0., 0., 0., 0., 0., 0., 0., 0., 0., 0.,\n",
       "       0., 0., 0., 0., 0., 0., 0., 0., 0., 0., 0., 0., 0., 0., 0., 0., 0.,\n",
       "       0., 0., 0., 0., 0., 0., 0., 0., 0., 0., 0., 0., 0., 0., 0., 0.])"
      ]
     },
     "execution_count": 54,
     "metadata": {},
     "output_type": "execute_result"
    }
   ],
   "source": [
    "numpy.array(list(sf.view().value.flatten())) - numpy.array(values)"
   ]
  },
  {
   "cell_type": "code",
   "execution_count": null,
   "metadata": {},
   "outputs": [],
   "source": []
  }
 ],
 "metadata": {
  "kernelspec": {
   "display_name": "Python 3",
   "language": "python",
   "name": "python3"
  },
  "language_info": {
   "codemirror_mode": {
    "name": "ipython",
    "version": 3
   },
   "file_extension": ".py",
   "mimetype": "text/x-python",
   "name": "python",
   "nbconvert_exporter": "python",
   "pygments_lexer": "ipython3",
   "version": "3.8.5"
  }
 },
 "nbformat": 4,
 "nbformat_minor": 4
}
