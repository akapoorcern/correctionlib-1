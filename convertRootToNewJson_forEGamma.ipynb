{
 "cells": [
  {
   "cell_type": "code",
   "execution_count": 1,
   "metadata": {},
   "outputs": [],
   "source": [
    "#Author: Anshul Kapoor\n",
    "#Code Purpose: Make Single JSON for all EGamma SFs\n",
    "\n",
    "#All the files for SFs\n",
    "files=[\n",
    "    \"EGdata/egammaEffi.txt_Ele_Veto_postVFP_EGM2D.root\",\n",
    "    \"EGdata/egammaEffi.txt_Ele_Loose_postVFP_EGM2D.root\",\n",
    "    \"EGdata/egammaEffi.txt_Ele_Medium_postVFP_EGM2D.root\",\n",
    "    \"EGdata/egammaEffi.txt_Ele_Tight_postVFP_EGM2D.root\",\n",
    "]\n",
    "\n",
    "#Names that you want for SFs for files above (same order please)\n",
    "names=[\"Veto\",\"Loose\",\"Medium\",\"Tight\"]\n",
    "#Names that you want for errors for files above (same order please)\n",
    "nameserrs=[\"Veto_err\",\"Loose_err\",\"Medium_err\",\"Tight_err\"]\n",
    "nameJSON=\"egcorrs_withErrors.json\" # Name of final JSON\n",
    "\n",
    "sfhist=\"EGamma_SF2D\""
   ]
  },
  {
   "cell_type": "code",
   "execution_count": 2,
   "metadata": {},
   "outputs": [
    {
     "name": "stdout",
     "output_type": "stream",
     "text": [
      "Welcome to JupyROOT 6.22/06\n"
     ]
    }
   ],
   "source": [
    "from ROOT import TFile, TH1F, TCanvas, TString\n",
    "\n",
    "#Function to extract SFs from EGamma standard root files\n",
    "def getSFs(fn=\"filename\"):\n",
    "    tf = TFile(fn)\n",
    "    fo = tf.Get(sfhist)\n",
    "    Xbins=fo.GetNbinsX()\n",
    "    Ybins=fo.GetNbinsY()\n",
    "    X=[None]*(Xbins+1)\n",
    "    Y=[None]*(Ybins+1)\n",
    "    values=[]\n",
    "    errors=[]\n",
    "    for i in range(1,Xbins + 1):\n",
    "        X[i-1]=(fo.GetXaxis().GetBinLowEdge(i))\n",
    "    X[Xbins]=fo.GetXaxis().GetBinUpEdge(Xbins)\n",
    "    for j in range(1,Ybins + 1):\n",
    "        Y[j-1]=(fo.GetYaxis().GetBinLowEdge(j))\n",
    "    Y[Ybins]=fo.GetYaxis().GetBinUpEdge(Ybins)\n",
    "    for i in range(1,Xbins + 1):\n",
    "        for j in range(1,Ybins + 1):\n",
    "            values.append(fo.GetBinContent(i,j))\n",
    "            errors.append(fo.GetBinError(i,j))\n",
    "    return X,Y,values,errors\n",
    "\n",
    "\n",
    "#Use correctionlib to prepare jsons for all wps\n",
    "from correctionlib.schemav1 import Correction\n",
    "corrs=[]\n",
    "for name,name_err,file in zip(names,nameserrs,files):\n",
    "    X,Y,values,errors=getSFs(file) #Using getSFs function defined above\n",
    "    \n",
    "    corr = Correction.parse_obj(\n",
    "    {\n",
    "        \"version\": 1,\n",
    "        \"name\": name,\n",
    "        \"inputs\": [\n",
    "            {\"type\": \"real\", \"name\": \"eta\", \"description\": \"possibly supercluster eta?\"},\n",
    "            {\"name\": \"pt\", \"type\": \"real\"},\n",
    "        ],\n",
    "        \"output\": {\"name\": \"weight\", \"type\": \"real\"},\n",
    "        \"data\": {\n",
    "            \"nodetype\": \"multibinning\",\n",
    "            \"edges\": [\n",
    "                X,\n",
    "                Y,\n",
    "            ],\n",
    "            \"content\": values,\n",
    "        },\n",
    "    })\n",
    "    corrs.append(corr)\n",
    "    \n",
    "    correrr = Correction.parse_obj(\n",
    "    {\n",
    "        \"version\": 1,\n",
    "        \"name\": name_err,\n",
    "        \"inputs\": [\n",
    "            {\"type\": \"real\", \"name\": \"eta\", \"description\": \"possibly supercluster eta?\"},\n",
    "            {\"name\": \"pt\", \"type\": \"real\"},\n",
    "        ],\n",
    "        \"output\": {\"name\": \"weight\", \"type\": \"real\"},\n",
    "        \"data\": {\n",
    "            \"nodetype\": \"multibinning\",\n",
    "            \"edges\": [\n",
    "                X,\n",
    "                Y,\n",
    "            ],\n",
    "            \"content\": errors,\n",
    "        },\n",
    "    })\n",
    "    corrs.append(correrr)\n",
    "\n",
    "#Save JSON\n",
    "from correctionlib.schemav1 import CorrectionSet\n",
    "import gzip\n",
    "\n",
    "cset = CorrectionSet.parse_obj({\n",
    "    \"schema_version\": 1,\n",
    "    \"corrections\": corrs,\n",
    "})\n",
    "\n",
    "with open(nameJSON, \"w\") as fout:\n",
    "    fout.write(cset.json(exclude_unset=True, indent=4))"
   ]
  },
  {
   "cell_type": "code",
   "execution_count": 3,
   "metadata": {},
   "outputs": [
    {
     "name": "stdout",
     "output_type": "stream",
     "text": [
      "SF is:0.9864253401756288\n",
      "error is:0.013436816646698298\n"
     ]
    }
   ],
   "source": [
    "#Evaluator Example\n",
    "\n",
    "import libcorrection\n",
    "\n",
    "cset = libcorrection.CorrectionSet(nameJSON)\n",
    "\n",
    "valsf= cset[\"Veto\"].evaluate(1.1, 34.0)\n",
    "valsferr= cset[\"Veto_err\"].evaluate(1.1, 34.0)\n",
    "\n",
    "print(\"SF is:\"+str(valsf))\n",
    "print(\"error is:\"+str(valsferr))"
   ]
  }
 ],
 "metadata": {
  "kernelspec": {
   "display_name": "Python 3",
   "language": "python",
   "name": "python3"
  },
  "language_info": {
   "codemirror_mode": {
    "name": "ipython",
    "version": 3
   },
   "file_extension": ".py",
   "mimetype": "text/x-python",
   "name": "python",
   "nbconvert_exporter": "python",
   "pygments_lexer": "ipython3",
   "version": "3.8.5"
  }
 },
 "nbformat": 4,
 "nbformat_minor": 4
}
