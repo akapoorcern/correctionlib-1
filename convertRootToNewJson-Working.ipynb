{
 "cells": [
  {
   "cell_type": "code",
   "execution_count": 1,
   "metadata": {},
   "outputs": [],
   "source": [
    "#Author: Anshul Kapoor\n",
    "#Aim: Make Single JSON for all EGamma SFs\n",
    "\n",
    "#Extract histograms from EGamma standard root files\n",
    "import uproot4\n",
    "import math\n",
    "import numpy as np\n",
    "sf_Veto = uproot4.open(\"EGdata/egammaEffi.txt_Ele_Veto_postVFP_EGM2D.root:EGamma_SF2D\").to_boost()\n",
    "sf_Loose = uproot4.open(\"EGdata/egammaEffi.txt_Ele_Loose_postVFP_EGM2D.root:EGamma_SF2D\").to_boost()\n",
    "sf_Medium = uproot4.open(\"EGdata/egammaEffi.txt_Ele_Medium_postVFP_EGM2D.root:EGamma_SF2D\").to_boost()\n",
    "sf_Tight = uproot4.open(\"EGdata/egammaEffi.txt_Ele_Tight_postVFP_EGM2D.root:EGamma_SF2D\").to_boost()"
   ]
  },
  {
   "cell_type": "code",
   "execution_count": 2,
   "metadata": {},
   "outputs": [],
   "source": [
    "#k=uproot4.open(\"egammaEffi.txt_Ele_Veto_postVFP_EGM2D.root:EGamma_SF2D\")"
   ]
  },
  {
   "cell_type": "code",
   "execution_count": null,
   "metadata": {},
   "outputs": [],
   "source": []
  },
  {
   "cell_type": "code",
   "execution_count": 3,
   "metadata": {},
   "outputs": [],
   "source": [
    "from correctionlib.schemav1 import Correction\n",
    "sfs=[sf_Veto,sf_Loose,sf_Medium,sf_Tight] # The list of 2D histograms for all wps\n",
    "names=[\"Veto\",\"Loose\",\"Medium\",\"Tight\"]\n",
    "nameserr=[\"Veto_err\",\"Loose_err\",\"Medium_err\",\"Tight_err\"]# The labels you want in JSON for all wps\n",
    "nameJSON=\"egcorrs_simpler.json\" # Name of final JSON\n",
    "corrs=[None] * len(sfs)\n",
    "\n",
    "#Use correctionlib to prepare jsons for all wps\n",
    "for name,sf in zip(names,sfs):\n",
    "    corr = Correction.parse_obj(\n",
    "    {\n",
    "        \"version\": 0,\n",
    "        \"name\": name,\n",
    "        \"inputs\": [\n",
    "            {\"type\": \"real\", \"name\": \"eta\", \"description\": \"possibly supercluster eta?\"},\n",
    "            {\"name\": \"pt\", \"type\": \"real\"},\n",
    "        ],\n",
    "        \"output\": {\"name\": \"weight\", \"type\": \"real\"},\n",
    "        \"data\": {\n",
    "            \"nodetype\": \"multibinning\",\n",
    "            \"edges\": [\n",
    "                list(sf.axes[0].edges),\n",
    "                list(sf.axes[1].edges),\n",
    "            ],\n",
    "            \"content\": list(sf.view().value.flatten()),\n",
    "        },\n",
    "    })\n",
    "    exec(name + \"= corr\")\n",
    "    \n",
    "    correrr = Correction.parse_obj(\n",
    "    {\n",
    "        \"version\": 0,\n",
    "        \"name\": name + \"_err\",\n",
    "        \"inputs\": [\n",
    "            {\"type\": \"real\", \"name\": \"eta\", \"description\": \"possibly supercluster eta?\"},\n",
    "            {\"name\": \"pt\", \"type\": \"real\"},\n",
    "        ],\n",
    "        \"output\": {\"name\": \"weight\", \"type\": \"real\"},\n",
    "        \"data\": {\n",
    "            \"nodetype\": \"multibinning\",\n",
    "            \"edges\": [\n",
    "                list(sf.axes[0].edges),\n",
    "                list(sf.axes[1].edges),\n",
    "            ],\n",
    "            \"content\": list(np.sqrt(sf.view().variance.flatten())),\n",
    "        },\n",
    "    })\n",
    "    exec(name + \"_err = correrr\")\n",
    "    \n",
    "from correctionlib.schemav1 import CorrectionSet\n",
    "import gzip\n",
    "\n",
    "cset = CorrectionSet.parse_obj({\n",
    "    \"schema_version\": 1,\n",
    "    \"corrections\": [ #Which corrections you want to add to final JSON\n",
    "        Veto,\n",
    "        Loose,\n",
    "        Medium,\n",
    "        Tight, \n",
    "        Veto_err,\n",
    "        Loose_err,\n",
    "        Medium_err,\n",
    "        Tight_err,\n",
    "    ]\n",
    "})\n",
    "\n",
    "with open(nameJSON, \"w\") as fout:\n",
    "    fout.write(cset.json(exclude_unset=True, indent=4))"
   ]
  },
  {
   "cell_type": "code",
   "execution_count": 4,
   "metadata": {},
   "outputs": [
    {
     "name": "stdout",
     "output_type": "stream",
     "text": [
      "SF is:0.9864253401756288\n",
      "error is:1.0\n"
     ]
    }
   ],
   "source": [
    "#Evaluator Example\n",
    "\n",
    "import libcorrection\n",
    "\n",
    "cset = libcorrection.CorrectionSet(nameJSON)\n",
    "\n",
    "valsf= cset[\"Veto\"].evaluate(1.1, 34.0)\n",
    "valsferr= cset[\"Veto_err\"].evaluate(1.1, 34.0)\n",
    "\n",
    "print(\"SF is:\"+str(valsf))\n",
    "print(\"error is:\"+str(valsferr))\n"
   ]
  }
 ],
 "metadata": {
  "kernelspec": {
   "display_name": "Python 3",
   "language": "python",
   "name": "python3"
  },
  "language_info": {
   "codemirror_mode": {
    "name": "ipython",
    "version": 3
   },
   "file_extension": ".py",
   "mimetype": "text/x-python",
   "name": "python",
   "nbconvert_exporter": "python",
   "pygments_lexer": "ipython3",
   "version": "3.8.5"
  }
 },
 "nbformat": 4,
 "nbformat_minor": 4
}
