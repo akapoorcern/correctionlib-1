{
 "cells": [
  {
   "cell_type": "code",
   "execution_count": 2,
   "id": "emotional-preservation",
   "metadata": {},
   "outputs": [
    {
     "name": "stdout",
     "output_type": "stream",
     "text": [
      "example 1: sf is:1.0\n",
      "example 2: sf is:0.9845995903015136\n",
      "example 3: syst is:0.016144610322538767\n",
      "example 4: sf is:0.9901960492134094\n",
      "example 5: sf is:0.9836779236793518\n"
     ]
    }
   ],
   "source": [
    "import libcorrection\n",
    "\n",
    "cset = libcorrection.CorrectionSet(\"egcorrs_UL.json\")\n",
    "\n",
    "#Electron Examples\n",
    "valsf= cset[\"ElectronsUL\"].evaluate(\"2016postVFP\",\"sf\",\"Medium\",1.1, 15.0)\n",
    "print(\"example 1: sf is:\"+str(valsf))\n",
    "\n",
    "valsf= cset[\"ElectronsUL\"].evaluate(\"2016postVFP\",\"sf\",\"RecoAbove20\",1.1, 25.0)\n",
    "print(\"example 2: sf is:\"+str(valsf))\n",
    "\n",
    "valsyst= cset[\"ElectronsUL\"].evaluate(\"2017\",\"syst\",\"Medium\",1.1, 34.0)\n",
    "print(\"example 3: syst is:\"+str(valsyst))\n",
    "\n",
    "#Photon Examples\n",
    "valsf= cset[\"PhotonsUL\"].evaluate(\"2016postVFP\",\"sf\",\"Medium\",1.1, 50.0)\n",
    "print(\"example 4: sf is:\"+str(valsf))\n",
    "\n",
    "valsf= cset[\"PhotonsUL\"].evaluate(\"2016postVFP\",\"sf\",\"Loose\",1.1, 50.0)\n",
    "print(\"example 5: sf is:\"+str(valsf))"
   ]
  },
  {
   "cell_type": "code",
   "execution_count": null,
   "id": "selective-athletics",
   "metadata": {},
   "outputs": [],
   "source": []
  }
 ],
 "metadata": {
  "kernelspec": {
   "display_name": "Python 3",
   "language": "python",
   "name": "python3"
  },
  "language_info": {
   "codemirror_mode": {
    "name": "ipython",
    "version": 3
   },
   "file_extension": ".py",
   "mimetype": "text/x-python",
   "name": "python",
   "nbconvert_exporter": "python",
   "pygments_lexer": "ipython3",
   "version": "3.8.5"
  }
 },
 "nbformat": 4,
 "nbformat_minor": 5
}
