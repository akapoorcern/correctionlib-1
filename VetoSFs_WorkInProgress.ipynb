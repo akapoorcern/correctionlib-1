{
 "cells": [
  {
   "cell_type": "code",
   "execution_count": 3,
   "id": "expired-probe",
   "metadata": {},
   "outputs": [],
   "source": [
    "from ROOT import TFile, TH1F, TCanvas, TString\n",
    "import correctionlib.schemav1 as schema\n",
    "from correctionlib.schemav1 import Correction\n",
    "\n",
    "tf = TFile(\"~/Downloads/HasPix_SummaryPlot_UL16_preVFP.root\")"
   ]
  },
  {
   "cell_type": "code",
   "execution_count": 12,
   "id": "verified-professional",
   "metadata": {},
   "outputs": [
    {
     "name": "stdout",
     "output_type": "stream",
     "text": [
      "TFile**\t\t/home/shin/Downloads/HasPix_SummaryPlot_UL16_preVFP.root\t\n",
      " TFile*\t\t/home/shin/Downloads/HasPix_SummaryPlot_UL16_preVFP.root\t\n",
      "  KEY: TDirectoryFile\tLooseID;1\tLooseID\n"
     ]
    }
   ],
   "source": [
    "tf.ls(\"LooseID\")"
   ]
  },
  {
   "cell_type": "code",
   "execution_count": 14,
   "id": "finished-secretary",
   "metadata": {},
   "outputs": [],
   "source": [
    "k=tf.Get(\"LooseID\")"
   ]
  },
  {
   "cell_type": "code",
   "execution_count": 15,
   "id": "friendly-constant",
   "metadata": {},
   "outputs": [
    {
     "name": "stdout",
     "output_type": "stream",
     "text": [
      "TDirectoryFile*\t\tLooseID\tLooseID\n",
      " KEY: TH1F\tSF_HasPix_LooseID;1\t\n",
      " KEY: TH1F\tStaunc_HasPix_LooseID;1\t\n",
      " KEY: TH1F\tPUunc_HasPix_LooseID;1\t\n"
     ]
    }
   ],
   "source": [
    "k.ls()"
   ]
  },
  {
   "cell_type": "code",
   "execution_count": 18,
   "id": "reduced-inquiry",
   "metadata": {},
   "outputs": [],
   "source": [
    "fo=k.Get(\"SF_HasPix_LooseID\")"
   ]
  },
  {
   "cell_type": "code",
   "execution_count": 19,
   "id": "absolute-murray",
   "metadata": {},
   "outputs": [
    {
     "data": {
      "text/plain": [
       "<cppyy.gbl.TH1F object at 0x55f0b41e6eb0>"
      ]
     },
     "execution_count": 19,
     "metadata": {},
     "output_type": "execute_result"
    }
   ],
   "source": [
    "fo"
   ]
  },
  {
   "cell_type": "code",
   "execution_count": 20,
   "id": "lined-harvest",
   "metadata": {},
   "outputs": [],
   "source": [
    "Xbins=fo.GetNbinsX()\n",
    "X=[None]*(Xbins+1)\n",
    "values=[]\n",
    "errors=[]\n",
    "for i in range(1,Xbins + 1):\n",
    "    X[i-1]=(fo.GetXaxis().GetBinLowEdge(i))\n",
    "X[Xbins]=fo.GetXaxis().GetBinUpEdge(Xbins)\n",
    "for i in range(1,Xbins + 1):\n",
    "    values.append(fo.GetBinContent(i))\n",
    "    errors.append(fo.GetBinError(i))"
   ]
  },
  {
   "cell_type": "code",
   "execution_count": 21,
   "id": "willing-product",
   "metadata": {},
   "outputs": [
    {
     "data": {
      "text/plain": [
       "[0.0, 1.0, 2.0, 3.0, 4.0, 5.0, 6.0]"
      ]
     },
     "execution_count": 21,
     "metadata": {},
     "output_type": "execute_result"
    }
   ],
   "source": [
    "X"
   ]
  },
  {
   "cell_type": "code",
   "execution_count": 22,
   "id": "matched-vinyl",
   "metadata": {},
   "outputs": [
    {
     "data": {
      "text/plain": [
       "[0.988332211971283,\n",
       " 0.9866481423377991,\n",
       " 0.9929766654968262,\n",
       " 0.9876019358634949,\n",
       " 0.9763740301132202,\n",
       " 1.0028654336929321]"
      ]
     },
     "execution_count": 22,
     "metadata": {},
     "output_type": "execute_result"
    }
   ],
   "source": [
    "values"
   ]
  },
  {
   "cell_type": "code",
   "execution_count": 28,
   "id": "magnetic-logan",
   "metadata": {},
   "outputs": [],
   "source": [
    "l=fo.GetBinContent(fo.GetXaxis().FindBin('EB Inc.'))"
   ]
  },
  {
   "cell_type": "code",
   "execution_count": 29,
   "id": "mature-hollow",
   "metadata": {},
   "outputs": [
    {
     "data": {
      "text/plain": [
       "0.988332211971283"
      ]
     },
     "execution_count": 29,
     "metadata": {},
     "output_type": "execute_result"
    }
   ],
   "source": [
    "l"
   ]
  },
  {
   "cell_type": "code",
   "execution_count": null,
   "id": "hawaiian-money",
   "metadata": {},
   "outputs": [],
   "source": [
    "def getPhotonSFs(fn=\"filename\",wp='Loose',IsSF=1):\n",
    "    tf = TFile(fn)\n",
    "    if wp is \"Loose\":\n",
    "        fo=tf.Get(\"LooseID/SF_HasPix_LooseID\")\n",
    "    if wp is \"Medium\":\n",
    "        fo=tf.Get(\"MediumID/SF_HasPix_MediumID\")\n",
    "    if wp is \"Tight\":\n",
    "        fo=tf.Get(\"TightID/SF_HasPix_TightID\")\n",
    "    if wp is \"MVAID\":\n",
    "        fo=tf.Get(\"MVAID/SF_HasPix_MVAIDID\")\n",
    "    Xbins=fo.GetNbinsX()\n",
    "    X=[None]*(Xbins+1)\n",
    "    values=[]\n",
    "    errors=[]\n",
    "    for i in range(1,Xbins + 1):\n",
    "        X[i-1]=(fo.GetXaxis().GetBinLowEdge(i))\n",
    "    X[Xbins]=fo.GetXaxis().GetBinUpEdge(Xbins)\n",
    "    for i in range(1,Xbins + 1):\n",
    "        values.append(fo.GetBinContent(i))\n",
    "        errors.append(fo.GetBinError(i))\n",
    "    "
   ]
  }
 ],
 "metadata": {
  "kernelspec": {
   "display_name": "Python 3",
   "language": "python",
   "name": "python3"
  },
  "language_info": {
   "codemirror_mode": {
    "name": "ipython",
    "version": 3
   },
   "file_extension": ".py",
   "mimetype": "text/x-python",
   "name": "python",
   "nbconvert_exporter": "python",
   "pygments_lexer": "ipython3",
   "version": "3.8.5"
  }
 },
 "nbformat": 4,
 "nbformat_minor": 5
}
